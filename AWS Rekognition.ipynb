{
 "cells": [
  {
   "cell_type": "code",
   "execution_count": 1,
   "metadata": {},
   "outputs": [],
   "source": [
    "import boto3"
   ]
  },
  {
   "cell_type": "code",
   "execution_count": 2,
   "metadata": {
    "scrolled": false
   },
   "outputs": [
    {
     "name": "stdout",
     "output_type": "stream",
     "text": [
      "{'CelebrityFaces': [{'Urls': ['www.imdb.com/name/nm0370071'], 'Name': 'Stephen Hawking', 'Id': '3IT9O9a', 'Face': {'BoundingBox': {'Width': 0.25, 'Height': 0.3333333432674408, 'Left': 0.12812499701976776, 'Top': 0.2958333194255829}, 'Confidence': 99.92058563232422, 'Landmarks': [{'Type': 'eyeLeft', 'X': 0.20180866122245789, 'Y': 0.44734710454940796}, {'Type': 'eyeRight', 'X': 0.282216340303421, 'Y': 0.4118923246860504}, {'Type': 'nose', 'X': 0.2700166702270508, 'Y': 0.5019076466560364}, {'Type': 'mouthLeft', 'X': 0.23448686301708221, 'Y': 0.5661360621452332}, {'Type': 'mouthRight', 'X': 0.3082653880119324, 'Y': 0.530217707157135}], 'Pose': {'Roll': -19.350360870361328, 'Yaw': 9.268149375915527, 'Pitch': -9.697746276855469}, 'Quality': {'Brightness': 67.17218780517578, 'Sharpness': 98.57371520996094}}, 'MatchConfidence': 100.0}], 'UnrecognizedFaces': [{'BoundingBox': {'Width': 0.19218750298023224, 'Height': 0.2541666626930237, 'Left': 0.668749988079071, 'Top': 0.17499999701976776}, 'Confidence': 99.98306274414062, 'Landmarks': [{'Type': 'eyeLeft', 'X': 0.7244343161582947, 'Y': 0.2834908664226532}, {'Type': 'eyeRight', 'X': 0.7874240875244141, 'Y': 0.26826658844947815}, {'Type': 'nose', 'X': 0.7613192796707153, 'Y': 0.3292079567909241}, {'Type': 'mouthLeft', 'X': 0.7439817190170288, 'Y': 0.3728090226650238}, {'Type': 'mouthRight', 'X': 0.797446072101593, 'Y': 0.35610678791999817}], 'Pose': {'Roll': -10.34298038482666, 'Yaw': -6.714562892913818, 'Pitch': -2.442352056503296}, 'Quality': {'Brightness': 78.94898986816406, 'Sharpness': 89.91268920898438}}, {'BoundingBox': {'Width': 0.16875000298023224, 'Height': 0.22499999403953552, 'Left': 0.36250001192092896, 'Top': 0.22708334028720856}, 'Confidence': 99.9433364868164, 'Landmarks': [{'Type': 'eyeLeft', 'X': 0.41931620240211487, 'Y': 0.32007503509521484}, {'Type': 'eyeRight', 'X': 0.47707709670066833, 'Y': 0.31983262300491333}, {'Type': 'nose', 'X': 0.4551214575767517, 'Y': 0.37053802609443665}, {'Type': 'mouthLeft', 'X': 0.4234135150909424, 'Y': 0.40105849504470825}, {'Type': 'mouthRight', 'X': 0.47813740372657776, 'Y': 0.40046024322509766}], 'Pose': {'Roll': -1.0646686553955078, 'Yaw': 9.292391777038574, 'Pitch': -7.5092620849609375}, 'Quality': {'Brightness': 71.79641723632812, 'Sharpness': 73.4422378540039}}], 'OrientationCorrection': 'ROTATE_0', 'ResponseMetadata': {'RequestId': '3f88d1f7-b86c-11e8-be18-3fb20c549692', 'HTTPStatusCode': 200, 'HTTPHeaders': {'content-type': 'application/x-amz-json-1.1', 'date': 'Fri, 14 Sep 2018 22:19:31 GMT', 'x-amzn-requestid': '3f88d1f7-b86c-11e8-be18-3fb20c549692', 'content-length': '2161', 'connection': 'keep-alive'}, 'RetryAttempts': 0}}\n"
     ]
    }
   ],
   "source": [
    "import boto3, requests\n",
    "session = boto3.Session(profile_name='default')\n",
    "rekognition = session.client('rekognition')\n",
    "url = \"https://upload.wikimedia.org/wikipedia/commons/thumb/8/88/Stephen_Hawking_David_Fleming_Martin_Curley.png/640px-Stephen_Hawking_David_Fleming_Martin_Curley.png\"\n",
    "response = requests.get(url)\n",
    "response_content = response.content\n",
    "rekognition_response = rekognition.recognize_celebrities(Image={'Bytes': response_content})\n",
    "print(rekognition_response)"
   ]
  },
  {
   "cell_type": "code",
   "execution_count": 3,
   "metadata": {},
   "outputs": [
    {
     "name": "stdout",
     "output_type": "stream",
     "text": [
      "{'Labels': [{'Name': 'Dining Table', 'Confidence': 97.67144012451172}, {'Name': 'Furniture', 'Confidence': 97.67144012451172}, {'Name': 'Table', 'Confidence': 97.67144012451172}, {'Name': 'Indoors', 'Confidence': 97.30907440185547}, {'Name': 'Interior Design', 'Confidence': 97.30907440185547}, {'Name': 'Kitchen', 'Confidence': 97.30907440185547}, {'Name': 'Room', 'Confidence': 97.30907440185547}, {'Name': 'Dining Room', 'Confidence': 92.47920227050781}, {'Name': 'Crypt', 'Confidence': 51.56226348876953}], 'OrientationCorrection': 'ROTATE_0', 'ResponseMetadata': {'RequestId': '441362a3-b86c-11e8-ab60-a7b2a314a6f8', 'HTTPStatusCode': 200, 'HTTPHeaders': {'content-type': 'application/x-amz-json-1.1', 'date': 'Fri, 14 Sep 2018 22:19:37 GMT', 'x-amzn-requestid': '441362a3-b86c-11e8-ab60-a7b2a314a6f8', 'content-length': '509', 'connection': 'keep-alive'}, 'RetryAttempts': 0}}\n"
     ]
    }
   ],
   "source": [
    "import boto3, requests\n",
    "session = boto3.Session(profile_name='default')\n",
    "rekognition = session.client('rekognition')\n",
    "url = \"http://themedium.net/wp-content/uploads/2017/04/charming-brown-rectangle-unique-wooden-modern-kitchen-renovation-ideas-varnished-ideas.jpg\"\n",
    "response = requests.get(url)\n",
    "response_content = response.content\n",
    "rekognition_response = rekognition.detect_labels(Image={'Bytes': response_content})\n",
    "print(rekognition_response)"
   ]
  },
  {
   "cell_type": "code",
   "execution_count": 4,
   "metadata": {},
   "outputs": [
    {
     "name": "stdout",
     "output_type": "stream",
     "text": [
      "{'Labels': [{'Name': 'Indoors', 'Confidence': 99.22258758544922}, {'Name': 'Interior Design', 'Confidence': 99.22258758544922}, {'Name': 'Kitchen', 'Confidence': 99.22258758544922}, {'Name': 'Room', 'Confidence': 99.22258758544922}, {'Name': 'Cabinet', 'Confidence': 62.418601989746094}, {'Name': 'Furniture', 'Confidence': 62.418601989746094}, {'Name': 'Closet', 'Confidence': 54.859901428222656}, {'Name': 'Cupboard', 'Confidence': 54.859901428222656}, {'Name': 'Electronics', 'Confidence': 52.68132781982422}, {'Name': 'Entertainment Center', 'Confidence': 52.68132781982422}, {'Name': 'Apartment', 'Confidence': 52.13190460205078}, {'Name': 'Building', 'Confidence': 52.13190460205078}, {'Name': 'Housing', 'Confidence': 52.13190460205078}, {'Name': 'Dining Room', 'Confidence': 50.869590759277344}], 'ResponseMetadata': {'RequestId': '47c8f12e-b86c-11e8-bb7d-8b556fcf17e0', 'HTTPStatusCode': 200, 'HTTPHeaders': {'content-type': 'application/x-amz-json-1.1', 'date': 'Fri, 14 Sep 2018 22:19:43 GMT', 'x-amzn-requestid': '47c8f12e-b86c-11e8-bb7d-8b556fcf17e0', 'content-length': '748', 'connection': 'keep-alive'}, 'RetryAttempts': 0}}\n"
     ]
    }
   ],
   "source": [
    "import boto3, requests\n",
    "session = boto3.Session(profile_name='default')\n",
    "rekognition = session.client('rekognition')\n",
    "url = \"http://citylivingny.com/wp-content/uploads/2017/09/kitchen-4-6c0b63.jpg\"\n",
    "response = requests.get(url)\n",
    "response_content = response.content\n",
    "rekognition_response = rekognition.detect_labels(Image={'Bytes': response_content})\n",
    "print(rekognition_response)   \n"
   ]
  },
  {
   "cell_type": "code",
   "execution_count": null,
   "metadata": {},
   "outputs": [],
   "source": []
  },
  {
   "cell_type": "code",
   "execution_count": null,
   "metadata": {},
   "outputs": [],
   "source": []
  },
  {
   "cell_type": "code",
   "execution_count": null,
   "metadata": {},
   "outputs": [],
   "source": [
    "################################# COMPARISON RESULTS ####################################"
   ]
  },
  {
   "cell_type": "code",
   "execution_count": null,
   "metadata": {},
   "outputs": [],
   "source": [
    "# Results on an image of a traditional kitchen - Sample 1"
   ]
  },
  {
   "cell_type": "code",
   "execution_count": 8,
   "metadata": {
    "scrolled": true
   },
   "outputs": [
    {
     "name": "stdout",
     "output_type": "stream",
     "text": [
      "{'Labels': [{'Name': 'Drawer', 'Confidence': 85.53465270996094}, {'Name': 'Furniture', 'Confidence': 85.53465270996094}, {'Name': 'Indoors', 'Confidence': 74.12158203125}, {'Name': 'Interior Design', 'Confidence': 74.12158203125}, {'Name': 'Kitchen', 'Confidence': 74.12158203125}, {'Name': 'Room', 'Confidence': 74.12158203125}, {'Name': 'Art', 'Confidence': 65.10885620117188}, {'Name': 'Sculpture', 'Confidence': 65.10885620117188}, {'Name': 'Statue', 'Confidence': 65.10885620117188}, {'Name': 'Granite', 'Confidence': 63.033111572265625}, {'Name': 'Sideboard', 'Confidence': 57.3293342590332}, {'Name': 'Dining Room', 'Confidence': 56.10374069213867}, {'Name': 'Reception', 'Confidence': 53.20793914794922}, {'Name': 'Reception Room', 'Confidence': 53.20793914794922}, {'Name': 'Waiting Room', 'Confidence': 53.20793914794922}, {'Name': 'Tabletop', 'Confidence': 52.07883834838867}, {'Name': 'Bowl', 'Confidence': 51.54872131347656}, {'Name': 'Lamp', 'Confidence': 50.9727897644043}, {'Name': 'Electronics', 'Confidence': 50.80475616455078}, {'Name': 'Entertainment Center', 'Confidence': 50.80475616455078}], 'ResponseMetadata': {'RequestId': '54fb4bc4-7321-11e8-b06b-4b9409233444', 'HTTPStatusCode': 200, 'HTTPHeaders': {'content-type': 'application/x-amz-json-1.1', 'date': 'Mon, 18 Jun 2018 17:59:23 GMT', 'x-amzn-requestid': '54fb4bc4-7321-11e8-b06b-4b9409233444', 'content-length': '1034', 'connection': 'keep-alive'}, 'RetryAttempts': 0}}\n"
     ]
    }
   ],
   "source": [
    "import boto3, requests\n",
    "session = boto3.Session(profile_name='default')\n",
    "rekognition = session.client('rekognition')\n",
    "url = \"http://www.idesignarch.com/wp-content/uploads/DesignGalleria-Traditional-Kitchens_8.jpg\"\n",
    "response = requests.get(url)\n",
    "response_content = response.content\n",
    "rekognition_response = rekognition.detect_labels(Image={'Bytes': response_content})\n",
    "print(rekognition_response)   \n"
   ]
  },
  {
   "cell_type": "code",
   "execution_count": null,
   "metadata": {},
   "outputs": [],
   "source": []
  },
  {
   "cell_type": "code",
   "execution_count": 9,
   "metadata": {},
   "outputs": [],
   "source": [
    "# Results on an image of a traditional kitchen - Sample 2"
   ]
  },
  {
   "cell_type": "code",
   "execution_count": 10,
   "metadata": {
    "scrolled": true
   },
   "outputs": [
    {
     "name": "stdout",
     "output_type": "stream",
     "text": [
      "{'Labels': [{'Name': 'Appliance', 'Confidence': 97.65298461914062}, {'Name': 'Electrical Device', 'Confidence': 97.65298461914062}, {'Name': 'Oven', 'Confidence': 97.65298461914062}, {'Name': 'Dining Room', 'Confidence': 95.97455596923828}, {'Name': 'Indoors', 'Confidence': 95.97455596923828}, {'Name': 'Interior Design', 'Confidence': 95.97455596923828}, {'Name': 'Room', 'Confidence': 95.97455596923828}, {'Name': 'Chandelier', 'Confidence': 91.2927017211914}, {'Name': 'Lamp', 'Confidence': 91.2927017211914}, {'Name': 'Cabinet', 'Confidence': 77.67713165283203}, {'Name': 'Furniture', 'Confidence': 77.67713165283203}, {'Name': 'Electronics', 'Confidence': 67.85928344726562}, {'Name': 'Entertainment Center', 'Confidence': 67.85928344726562}, {'Name': 'Sideboard', 'Confidence': 65.64393615722656}, {'Name': 'Kitchen', 'Confidence': 52.45508575439453}, {'Name': 'Hardwood', 'Confidence': 52.3533935546875}, {'Name': 'Wood', 'Confidence': 52.3533935546875}, {'Name': 'Lighting', 'Confidence': 50.79951858520508}, {'Name': 'Bowl', 'Confidence': 50.7720832824707}, {'Name': 'Pub', 'Confidence': 50.65220642089844}], 'OrientationCorrection': 'ROTATE_0', 'ResponseMetadata': {'RequestId': '74779887-7321-11e8-bcc9-4dff80e84abe', 'HTTPStatusCode': 200, 'HTTPHeaders': {'content-type': 'application/x-amz-json-1.1', 'date': 'Mon, 18 Jun 2018 18:00:16 GMT', 'x-amzn-requestid': '74779887-7321-11e8-bcc9-4dff80e84abe', 'content-length': '1073', 'connection': 'keep-alive'}, 'RetryAttempts': 0}}\n"
     ]
    }
   ],
   "source": [
    "import boto3, requests\n",
    "session = boto3.Session(profile_name='default')\n",
    "rekognition = session.client('rekognition')\n",
    "url = \"http://sandiegophotographygallery.com/wp-content/uploads/2017/12/perfect-old-world-style-kitchen-cabinets-9.jpg\"\n",
    "response = requests.get(url)\n",
    "response_content = response.content\n",
    "rekognition_response = rekognition.detect_labels(Image={'Bytes': response_content})\n",
    "print(rekognition_response)   "
   ]
  },
  {
   "cell_type": "code",
   "execution_count": null,
   "metadata": {},
   "outputs": [],
   "source": []
  },
  {
   "cell_type": "code",
   "execution_count": 11,
   "metadata": {},
   "outputs": [],
   "source": [
    "# Traditional 3# Results on an image of a traditional kitchen - Sample 3"
   ]
  },
  {
   "cell_type": "code",
   "execution_count": 12,
   "metadata": {
    "scrolled": true
   },
   "outputs": [
    {
     "name": "stdout",
     "output_type": "stream",
     "text": [
      "{'Labels': [{'Name': 'Indoors', 'Confidence': 98.96376037597656}, {'Name': 'Interior Design', 'Confidence': 98.96376037597656}, {'Name': 'Kitchen', 'Confidence': 98.96376037597656}, {'Name': 'Room', 'Confidence': 98.96376037597656}, {'Name': 'Furniture', 'Confidence': 97.4852294921875}, {'Name': 'Dining Table', 'Confidence': 89.1820297241211}, {'Name': 'Table', 'Confidence': 89.1820297241211}, {'Name': 'Bar Stool', 'Confidence': 84.69125366210938}, {'Name': 'Chair', 'Confidence': 74.3982925415039}, {'Name': 'Dining Room', 'Confidence': 72.76446533203125}, {'Name': 'Flooring', 'Confidence': 72.0401382446289}, {'Name': 'Hardwood', 'Confidence': 66.29591369628906}, {'Name': 'Wood', 'Confidence': 66.29591369628906}, {'Name': 'Basement', 'Confidence': 61.00247573852539}, {'Name': 'Corridor', 'Confidence': 54.6567497253418}, {'Name': 'Lobby', 'Confidence': 51.551212310791016}, {'Name': 'Building', 'Confidence': 50.59820556640625}, {'Name': 'Architecture', 'Confidence': 50.51914596557617}], 'ResponseMetadata': {'RequestId': '9694a8cb-7321-11e8-953c-87cc9a4682a2', 'HTTPStatusCode': 200, 'HTTPHeaders': {'content-type': 'application/x-amz-json-1.1', 'date': 'Mon, 18 Jun 2018 18:01:13 GMT', 'x-amzn-requestid': '9694a8cb-7321-11e8-953c-87cc9a4682a2', 'content-length': '926', 'connection': 'keep-alive'}, 'RetryAttempts': 0}}\n"
     ]
    }
   ],
   "source": [
    "import boto3, requests\n",
    "session = boto3.Session(profile_name='default')\n",
    "rekognition = session.client('rekognition')\n",
    "url = \"https://www.jackrosen.com/wp-content/uploads/2016/05/Brickman2.jpg\"\n",
    "response = requests.get(url)\n",
    "response_content = response.content\n",
    "rekognition_response = rekognition.detect_labels(Image={'Bytes': response_content})\n",
    "print(rekognition_response)   "
   ]
  },
  {
   "cell_type": "code",
   "execution_count": null,
   "metadata": {},
   "outputs": [],
   "source": []
  },
  {
   "cell_type": "code",
   "execution_count": 15,
   "metadata": {},
   "outputs": [],
   "source": [
    "# Results on an image of a Modern kitchen - Sample 1"
   ]
  },
  {
   "cell_type": "code",
   "execution_count": 16,
   "metadata": {
    "scrolled": false
   },
   "outputs": [
    {
     "name": "stdout",
     "output_type": "stream",
     "text": [
      "{'Labels': [{'Name': 'Indoors', 'Confidence': 98.97332763671875}, {'Name': 'Interior Design', 'Confidence': 98.97332763671875}, {'Name': 'Kitchen', 'Confidence': 98.97332763671875}, {'Name': 'Room', 'Confidence': 98.97332763671875}, {'Name': 'Appliance', 'Confidence': 60.4461784362793}, {'Name': 'Electrical Device', 'Confidence': 60.4461784362793}, {'Name': 'Furniture', 'Confidence': 57.560794830322266}, {'Name': 'Canopy', 'Confidence': 57.42726135253906}, {'Name': 'Architecture', 'Confidence': 50.792293548583984}, {'Name': 'Building', 'Confidence': 50.792293548583984}], 'OrientationCorrection': 'ROTATE_0', 'ResponseMetadata': {'RequestId': 'fe9d5979-7321-11e8-b52c-31b341249503', 'HTTPStatusCode': 200, 'HTTPHeaders': {'content-type': 'application/x-amz-json-1.1', 'date': 'Mon, 18 Jun 2018 18:04:08 GMT', 'x-amzn-requestid': 'fe9d5979-7321-11e8-b52c-31b341249503', 'content-length': '572', 'connection': 'keep-alive'}, 'RetryAttempts': 0}}\n"
     ]
    }
   ],
   "source": [
    "import boto3, requests\n",
    "session = boto3.Session(profile_name='default')\n",
    "rekognition = session.client('rekognition')\n",
    "url = \"https://media.architecturaldigest.com/photos/55e76fbf302ba71f3016c310/master/w_640,c_limit/dam-images-decor-2015-01-sleek-kitchens-contemporary-kitchen-inspiration-10.jpg\"\n",
    "response = requests.get(url)\n",
    "response_content = response.content\n",
    "rekognition_response = rekognition.detect_labels(Image={'Bytes': response_content})\n",
    "print(rekognition_response)   "
   ]
  },
  {
   "cell_type": "code",
   "execution_count": 17,
   "metadata": {},
   "outputs": [],
   "source": [
    "# Results on an image of a Modern kitchen - Sample 2"
   ]
  },
  {
   "cell_type": "code",
   "execution_count": 10,
   "metadata": {
    "scrolled": true
   },
   "outputs": [
    {
     "name": "stdout",
     "output_type": "stream",
     "text": [
      "{'Labels': [{'Name': 'Safe', 'Confidence': 52.47346115112305}], 'OrientationCorrection': 'ROTATE_0', 'ResponseMetadata': {'RequestId': 'c3aad6fb-73dd-11e8-bbc2-358ed3862998', 'HTTPStatusCode': 200, 'HTTPHeaders': {'content-type': 'application/x-amz-json-1.1', 'date': 'Tue, 19 Jun 2018 16:28:15 GMT', 'x-amzn-requestid': 'c3aad6fb-73dd-11e8-bbc2-358ed3862998', 'content-length': '94', 'connection': 'keep-alive'}, 'RetryAttempts': 0}}\n"
     ]
    }
   ],
   "source": [
    "import boto3, requests\n",
    "session = boto3.Session(profile_name='default')\n",
    "rekognition = session.client('rekognition')\n",
    "url = \"http://uglyhousephotos.com/wordpress/wp-content/uploads/2011/09/110918wrexhamwales.jpg\"\n",
    "response = requests.get(url)\n",
    "response_content = response.content\n",
    "rekognition_response = rekognition.detect_labels(Image={'Bytes': response_content})\n",
    "print(rekognition_response)   "
   ]
  },
  {
   "cell_type": "code",
   "execution_count": null,
   "metadata": {},
   "outputs": [],
   "source": []
  }
 ],
 "metadata": {
  "kernelspec": {
   "display_name": "Python 3",
   "language": "python",
   "name": "python3"
  },
  "language_info": {
   "codemirror_mode": {
    "name": "ipython",
    "version": 3
   },
   "file_extension": ".py",
   "mimetype": "text/x-python",
   "name": "python",
   "nbconvert_exporter": "python",
   "pygments_lexer": "ipython3",
   "version": "3.6.5"
  }
 },
 "nbformat": 4,
 "nbformat_minor": 2
}
